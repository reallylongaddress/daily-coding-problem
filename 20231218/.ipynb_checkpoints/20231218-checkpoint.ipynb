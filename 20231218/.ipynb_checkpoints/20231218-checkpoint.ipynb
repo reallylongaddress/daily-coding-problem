{
 "cells": [
  {
   "cell_type": "code",
   "execution_count": 1,
   "id": "9c94f2dd-baf8-4c17-948c-047508dce9d0",
   "metadata": {},
   "outputs": [],
   "source": [
    "'''\n",
    "\n",
    "There's a staircase with N steps, and you can climb 1 or 2 steps at a time. Given N, write a function that returns the number of unique ways you can climb the staircase. The order of the steps matters.\n",
    "\n",
    "For example, if N is 4, then there are 5 unique ways:\n",
    "\n",
    "1, 1, 1, 1\n",
    "2, 1, 1\n",
    "1, 2, 1\n",
    "1, 1, 2\n",
    "2, 2\n",
    "What if, instead of being able to climb 1 or 2 steps at a time, you could climb any number from a set of positive integers X? \n",
    "For example, if X = {1, 3, 5}, you could climb 1, 3, or 5 steps at a time. Generalize your function to take in X.\n",
    "''';"
   ]
  },
  {
   "cell_type": "code",
   "execution_count": 2,
   "id": "82670a02-14b2-424e-bfb9-d4a03106daef",
   "metadata": {},
   "outputs": [],
   "source": [
    "import time "
   ]
  },
  {
   "cell_type": "code",
   "execution_count": 3,
   "id": "2a28c360-0af5-467f-9c87-697b159b4e21",
   "metadata": {},
   "outputs": [
    {
     "name": "stdout",
     "output_type": "stream",
     "text": [
      "num_solutions: 9\n",
      "0.00044608116149902344\n"
     ]
    }
   ],
   "source": [
    "'''\n",
    "X = combinations of steps that can be taken\n",
    "N = Number remaining steps\n",
    "''';\n",
    "def climb_steps(X, N, debug=False):\n",
    "    \n",
    "    if debug: print(f'N: {N}')\n",
    "\n",
    "    #at the top of the stairs, found a solution\n",
    "    if N == 0:\n",
    "        if debug: print(f'Top: {N}==0')\n",
    "        return 1\n",
    "\n",
    "    #overstepped the stop, not a solution\n",
    "    elif N < 0:\n",
    "        if debug: print(f'Over: {N}<0')\n",
    "        return 0\n",
    "\n",
    "    #else, not at the top, continue\n",
    "    else:\n",
    "        if debug: print(f'Recurse: {N}>0')\n",
    "        return sum(climb_steps(X, N-x, debug) for x in X)\n",
    "    \n",
    "steps_at_a_time = (1,2)\n",
    "num_steps = 4\n",
    "num_solutions = 0\n",
    "\n",
    "steps_at_a_time = (1,2,5)\n",
    "num_steps = 5\n",
    "\n",
    "start = time.time()\n",
    "print(f'num_solutions: {climb_steps(steps_at_a_time, num_steps, False)}')\n",
    "end = time.time()\n",
    "print(end - start)\n"
   ]
  },
  {
   "cell_type": "code",
   "execution_count": 4,
   "id": "e3389e90-3c82-4e14-a94a-555919d7f1e5",
   "metadata": {},
   "outputs": [
    {
     "name": "stdout",
     "output_type": "stream",
     "text": [
      "9\n",
      "7.295608520507812e-05\n"
     ]
    }
   ],
   "source": [
    "#official solution\n",
    "\n",
    "X = (1,2,5)\n",
    "n = 5\n",
    "\n",
    "def staircase(n, X):\n",
    "    if n < 0:\n",
    "        return 0\n",
    "    elif n == 0:\n",
    "        return 1\n",
    "    else:\n",
    "        return sum(staircase(n - x, X) for x in X)\n",
    "   \n",
    "start = time.time()\n",
    "print(staircase(n, X))\n",
    "\n",
    "end = time.time()\n",
    "print(end - start)"
   ]
  },
  {
   "cell_type": "code",
   "execution_count": null,
   "id": "58850830-d756-42c1-93ff-fd171d3aa5df",
   "metadata": {},
   "outputs": [],
   "source": []
  }
 ],
 "metadata": {
  "kernelspec": {
   "display_name": "Python 3 (ipykernel)",
   "language": "python",
   "name": "python3"
  },
  "language_info": {
   "codemirror_mode": {
    "name": "ipython",
    "version": 3
   },
   "file_extension": ".py",
   "mimetype": "text/x-python",
   "name": "python",
   "nbconvert_exporter": "python",
   "pygments_lexer": "ipython3",
   "version": "3.10.8"
  }
 },
 "nbformat": 4,
 "nbformat_minor": 5
}
