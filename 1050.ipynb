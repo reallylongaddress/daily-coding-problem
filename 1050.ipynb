{
 "cells": [
  {
   "cell_type": "code",
   "execution_count": 1,
   "id": "ad1f089d-404d-45de-a180-f7227ef49758",
   "metadata": {},
   "outputs": [],
   "source": [
    "'''\n",
    "This problem was asked by Twitter.\n",
    "\n",
    "A permutation can be specified by an array P, where P[i] represents the location of the element at i in the permutation. For example, \n",
    "[2, 1, 0] represents the permutation where elements at the index 0 and 2 are swapped.\n",
    "\n",
    "Given an array and a permutation, apply the permutation to the array. For example, \n",
    "given the array [\"a\", \"b\", \"c\"] \n",
    "and the permutation [2, 1, 0], return [\"c\", \"b\", \"a\"].\n",
    "''';"
   ]
  },
  {
   "cell_type": "code",
   "execution_count": 5,
   "id": "2441b5cb-0db0-4386-b03c-df4211781a7f",
   "metadata": {},
   "outputs": [
    {
     "data": {
      "text/plain": [
       "['c', 'b', 'a']"
      ]
     },
     "execution_count": 5,
     "metadata": {},
     "output_type": "execute_result"
    }
   ],
   "source": [
    "data_in = ['a', 'b', 'c']\n",
    "permutation = [2, 1, 0]\n",
    "\n",
    "data_out = [data_in[i] for i in permutation]\n",
    "data_out\n"
   ]
  },
  {
   "cell_type": "code",
   "execution_count": 8,
   "id": "19710f03-f9c0-4041-9b41-70ad97773249",
   "metadata": {},
   "outputs": [
    {
     "data": {
      "text/plain": [
       "([5, 4, 3, 2, 1, 0], ['f', 'e', 'd', 'c', 'b', 'a'])"
      ]
     },
     "execution_count": 8,
     "metadata": {},
     "output_type": "execute_result"
    }
   ],
   "source": [
    "data_in = ['a', 'b', 'c', 'd', 'e', 'f']\n",
    "permutation = list(reversed(range(len(data_in))))\n",
    "\n",
    "data_out = [data_in[i] for i in permutation]\n",
    "permutation, data_out\n"
   ]
  },
  {
   "cell_type": "code",
   "execution_count": null,
   "id": "f7d2ebc6-5ee7-4a2d-9034-839e3f3f7c9d",
   "metadata": {},
   "outputs": [],
   "source": []
  }
 ],
 "metadata": {
  "kernelspec": {
   "display_name": "Python 3 (ipykernel)",
   "language": "python",
   "name": "python3"
  },
  "language_info": {
   "codemirror_mode": {
    "name": "ipython",
    "version": 3
   },
   "file_extension": ".py",
   "mimetype": "text/x-python",
   "name": "python",
   "nbconvert_exporter": "python",
   "pygments_lexer": "ipython3",
   "version": "3.10.8"
  }
 },
 "nbformat": 4,
 "nbformat_minor": 5
}
